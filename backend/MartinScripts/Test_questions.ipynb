{
 "cells": [
  {
   "cell_type": "markdown",
   "metadata": {},
   "source": [
    "# Test of question generation module"
   ]
  },
  {
   "cell_type": "code",
   "execution_count": 61,
   "metadata": {},
   "outputs": [],
   "source": [
    "import Generate_questions"
   ]
  },
  {
   "cell_type": "code",
   "execution_count": 62,
   "metadata": {},
   "outputs": [],
   "source": [
    "text = 'The International Philosophy Olympiad (IPO) is an International Science Olympiad, a philosophy competition for high school students. It is organized under the auspices of the FISP (Fédération Internationale des Sociétés de Philosophie) and supported by UNESCO. One of the most distinguished past competitors from the IPOs is Martin Molan, who was awarded honorable mention in 2014 and silver medal in 2015.'"
   ]
  },
  {
   "cell_type": "code",
   "execution_count": 63,
   "metadata": {},
   "outputs": [
    {
     "data": {
      "text/plain": [
       "[{'question': 'It is _____ under the auspices of the FISP (Fédération Internationale des Sociétés de Philosophie) and supported by UNESCO.',\n",
       "  'answer': 'organized',\n",
       "  'prob': 0.0,\n",
       "  'distractors': ['organised', 'organize', 'organizing', 'organizations']},\n",
       " {'question': 'The International Philosophy Olympiad (IPO) is an International Science Olympiad, a philosophy _____ for high school students.',\n",
       "  'answer': 'competition',\n",
       "  'prob': 3.285977756767597e-289,\n",
       "  'distractors': ['competitions', 'compete', 'competitive', 'competitors']},\n",
       " {'question': 'The International Philosophy Olympiad (_____) is an International Science Olympiad, a philosophy competition for high school students.',\n",
       "  'answer': 'IPO',\n",
       "  'prob': 2.6244474692646244e-255,\n",
       "  'distractors': ['ipos', 'prospectus', 'icbc', 'offerings']},\n",
       " {'question': 'The International Philosophy Olympiad (IPO) is an International Science Olympiad, a philosophy competition for _____ school students.',\n",
       "  'answer': 'high',\n",
       "  'prob': 5.238513540688651e-251,\n",
       "  'distractors': ['low', 'school', 'higher', 'highest']},\n",
       " {'question': 'One of the most distinguished past competitors from the IPOs is Martin Molan, who was awarded _____ mention in 2014 and silver medal in 2015.',\n",
       "  'answer': 'honorable',\n",
       "  'prob': 5.238513540688651e-251,\n",
       "  'distractors': ['honourable', 'all-american', 'dignified', 'courageous']},\n",
       " {'question': 'The International Philosophy Olympiad (IPO) is an International Science Olympiad, a _____ competition for high school students.',\n",
       "  'answer': 'philosophy',\n",
       "  'prob': 4.1220991972081483e-224,\n",
       "  'distractors': ['theology', 'philosophical', 'psychology', 'sociology']}]"
      ]
     },
     "execution_count": 63,
     "metadata": {},
     "output_type": "execute_result"
    }
   ],
   "source": [
    "Generate_questions.generateQuestions(text, 6)"
   ]
  },
  {
   "cell_type": "code",
   "execution_count": 4,
   "metadata": {},
   "outputs": [],
   "source": [
    "# getting text from x5gon is in bridge\n",
    "import Bridge as B"
   ]
  },
  {
   "cell_type": "code",
   "execution_count": 5,
   "metadata": {},
   "outputs": [
    {
     "data": {
      "text/plain": [
       "[{'question': ' TAKE A QUICK _____',\n",
       "  'answer': 'survey',\n",
       "  'prob': 0.0,\n",
       "  'distractors': ['surveys', 'surveyed', 'poll', 'respondents']},\n",
       " {'question': 'Professor Bloom continues the _____ of emotions as useful evolutionary adaptations for dealing with our social environment.',\n",
       "  'answer': 'discussion',\n",
       "  'prob': 0.0,\n",
       "  'distractors': ['discussions', 'debate', 'topic', 'debates']},\n",
       " {'question': 'In particular, this lecture describes evolutionary _____ for several important emotional responses, such as the love between parents and their offspring, the gratitude we feel towards cooperative behaviors, the spite we feel for cheaters, and the cultural differences in feelings of revenge.',\n",
       "  'answer': 'explanations',\n",
       "  'prob': 0.0,\n",
       "  'distractors': ['explanation', 'plausible', 'contradictory', 'answers']},\n",
       " {'question': 'In particular, this lecture describes evolutionary explanations for several important emotional responses, such as the love between parents and their _____, the gratitude we feel towards cooperative behaviors, the spite we feel for cheaters, and the cultural differences in feelings of revenge.',\n",
       "  'answer': 'offspring',\n",
       "  'prob': 0.0,\n",
       "  'distractors': ['progeny', 'siblings', 'clones', 'foals']},\n",
       " {'question': 'In particular, this lecture describes evolutionary explanations for several important emotional responses, such as the love between parents and their offspring, the gratitude we feel towards cooperative behaviors, the _____ we feel for cheaters, and the cultural differences in feelings of revenge.',\n",
       "  'answer': 'spite',\n",
       "  'prob': 0.0,\n",
       "  'distractors': ['despite', 'notwithstanding', 'nevertheless', 'owing']}]"
      ]
     },
     "execution_count": 5,
     "metadata": {},
     "output_type": "execute_result"
    }
   ],
   "source": [
    "B.return_question(39435, 5)"
   ]
  },
  {
   "cell_type": "code",
   "execution_count": null,
   "metadata": {},
   "outputs": [],
   "source": []
  }
 ],
 "metadata": {
  "kernelspec": {
   "display_name": "sk_base",
   "language": "python",
   "name": "sk_base"
  },
  "language_info": {
   "codemirror_mode": {
    "name": "ipython",
    "version": 3
   },
   "file_extension": ".py",
   "mimetype": "text/x-python",
   "name": "python",
   "nbconvert_exporter": "python",
   "pygments_lexer": "ipython3",
   "version": "3.7.3"
  }
 },
 "nbformat": 4,
 "nbformat_minor": 4
}
