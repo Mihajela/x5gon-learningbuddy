{
 "cells": [
  {
   "cell_type": "code",
   "execution_count": 2,
   "metadata": {},
   "outputs": [],
   "source": [
    "import TrueBuddy as TB"
   ]
  },
  {
   "cell_type": "code",
   "execution_count": 3,
   "metadata": {},
   "outputs": [],
   "source": [
    "Ana = TB.TrueBuddy_learner()\n",
    "Bob = TB.TrueBuddy_learner()\n",
    "Calleb = TB.TrueBuddy_learner()"
   ]
  },
  {
   "cell_type": "code",
   "execution_count": 4,
   "metadata": {},
   "outputs": [],
   "source": [
    "#ML materials from X5Gon\n",
    "ml_materials_1 = [41849,17474,65375]\n",
    "ml_materials_2 = [48182, 48149, 63430, 6407]\n",
    "climate_materials = [40082, 53622, 108425, 71656, 25486, 40193]\n",
    "\n",
    "curated_playlist = ml_materials_1 + ml_materials_2"
   ]
  },
  {
   "cell_type": "code",
   "execution_count": 5,
   "metadata": {},
   "outputs": [],
   "source": [
    "#Ana likes and understands machine learning\n",
    "for i in ml_materials_1: Ana.update_skills(i,1)\n",
    "    \n",
    "#Bob also likes ML\n",
    "for i in ml_materials_2: Bob.update_skills(i,1)\n",
    "    \n",
    "#Calleb is interested in climate change\n",
    "for i in climate_materials: Calleb.update_skills(i,1)"
   ]
  },
  {
   "cell_type": "code",
   "execution_count": 6,
   "metadata": {},
   "outputs": [
    {
     "data": {
      "text/plain": [
       "{'F(x) (group)': 1.962,\n",
       " 'Derivative': 1.962,\n",
       " 'Additive inverse': 1.962,\n",
       " 'Maxima and minima': 1.962,\n",
       " 'X': 1.962,\n",
       " 'Gradient': 1.962,\n",
       " 'Function (mathematics)': 1.962,\n",
       " 'Bijection': 1.962,\n",
       " 'Taylor series': 1.962,\n",
       " 'Equality (mathematics)': 1.962,\n",
       " 'Machine learning': 1.939,\n",
       " 'Algorithm': 1.939,\n",
       " 'Learning disability': 1.939,\n",
       " 'Computational complexity theory': 1.939,\n",
       " 'Mathematical optimization': 1.939,\n",
       " 'Sparse dictionary learning': 1.939,\n",
       " 'Mathematical model': 1.939,\n",
       " 'Free will': 1.939,\n",
       " 'Education': 1.939,\n",
       " 'Machine': 1.939}"
      ]
     },
     "execution_count": 6,
     "metadata": {},
     "output_type": "execute_result"
    }
   ],
   "source": [
    "{k: round(v.mu,3) for k, v in sorted(Ana.learners.items(), key=lambda item: item[1].mu, reverse = True) if v.mu >= 1.9}"
   ]
  },
  {
   "cell_type": "code",
   "execution_count": 7,
   "metadata": {},
   "outputs": [
    {
     "data": {
      "text/plain": [
       "{'Mathematical model': 4.872,\n",
       " 'Time': 3.472,\n",
       " 'Mixture model': 3.472,\n",
       " 'Addition': 3.472,\n",
       " 'Hidden Markov model': 3.399,\n",
       " 'Variable (mathematics)': 3.399,\n",
       " 'Free will': 3.344,\n",
       " 'Machine learning': 3.065,\n",
       " 'Markov chain': 1.941,\n",
       " 'Markov model': 1.941,\n",
       " 'E (mathematical constant)': 1.941,\n",
       " 'Equals sign': 1.941}"
      ]
     },
     "execution_count": 7,
     "metadata": {},
     "output_type": "execute_result"
    }
   ],
   "source": [
    "{k: round(v.mu,3) for k, v in sorted(Bob.learners.items(), key=lambda item: item[1].mu, reverse = True) if v.mu > 1.94}"
   ]
  },
  {
   "cell_type": "code",
   "execution_count": 8,
   "metadata": {},
   "outputs": [
    {
     "data": {
      "text/plain": [
       "{'Climate change': 5.321,\n",
       " 'Question': 3.682,\n",
       " 'Storytelling': 3.51,\n",
       " 'Creative Commons license': 3.51,\n",
       " 'Greenhouse effect': 2.025,\n",
       " 'Life': 2.025,\n",
       " 'Earth': 2.025,\n",
       " 'Atmosphere of Earth': 2.025,\n",
       " \"Carbon dioxide in Earth's atmosphere\": 2.025,\n",
       " 'Sea': 2.025,\n",
       " 'Extraterrestrial life': 2.025,\n",
       " 'Oxygen': 2.025,\n",
       " 'Ecology': 2.025,\n",
       " 'Sun': 2.025,\n",
       " 'Essay': 1.933,\n",
       " 'Human impact on the environment': 1.933,\n",
       " 'Human': 1.933,\n",
       " 'Science': 1.933,\n",
       " 'Environmentalism': 1.933,\n",
       " 'Addition': 1.933,\n",
       " 'Please (U2 song)': 1.933,\n",
       " 'Politics': 1.933,\n",
       " 'Data': 1.83,\n",
       " 'Open data': 1.83,\n",
       " 'Effects of global warming': 1.83,\n",
       " 'Data set': 1.83,\n",
       " 'Educational assessment': 1.83,\n",
       " 'Homework': 1.83,\n",
       " 'Narrative': 1.83,\n",
       " 'Stern Review': 1.821,\n",
       " 'Nicholas Stern, Baron Stern of Brentford': 1.821,\n",
       " 'Economic growth': 1.821,\n",
       " 'Economic development': 1.821,\n",
       " 'An Inconvenient Truth (book)': 1.821,\n",
       " 'United States': 1.821,\n",
       " 'Great Recession': 1.821,\n",
       " 'European Union': 1.821,\n",
       " 'Economics': 1.821}"
      ]
     },
     "execution_count": 8,
     "metadata": {},
     "output_type": "execute_result"
    }
   ],
   "source": [
    "{k: round(v.mu,3) for k, v in sorted(Calleb.learners.items(), key=lambda item: item[1].mu, reverse = True) if v.mu >= 1.8}"
   ]
  },
  {
   "cell_type": "code",
   "execution_count": null,
   "metadata": {},
   "outputs": [],
   "source": []
  },
  {
   "cell_type": "code",
   "execution_count": null,
   "metadata": {},
   "outputs": [],
   "source": []
  }
 ],
 "metadata": {
  "kernelspec": {
   "display_name": "sk_base",
   "language": "python",
   "name": "sk_base"
  },
  "language_info": {
   "codemirror_mode": {
    "name": "ipython",
    "version": 3
   },
   "file_extension": ".py",
   "mimetype": "text/x-python",
   "name": "python",
   "nbconvert_exporter": "python",
   "pygments_lexer": "ipython3",
   "version": "3.7.3"
  }
 },
 "nbformat": 4,
 "nbformat_minor": 2
}
