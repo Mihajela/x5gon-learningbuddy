{
 "cells": [
  {
   "cell_type": "markdown",
   "metadata": {},
   "source": [
    "# Loading the module"
   ]
  },
  {
   "cell_type": "code",
   "execution_count": 16,
   "metadata": {},
   "outputs": [],
   "source": [
    "import TrueBuddy as TB"
   ]
  },
  {
   "cell_type": "markdown",
   "metadata": {},
   "source": [
    "## Creating the learners"
   ]
  },
  {
   "cell_type": "code",
   "execution_count": 2,
   "metadata": {},
   "outputs": [],
   "source": [
    "Ana = TB.TrueBuddy_learner()\n",
    "Bob = TB.TrueBuddy_learner()\n",
    "Calleb = TB.TrueBuddy_learner()"
   ]
  },
  {
   "cell_type": "markdown",
   "metadata": {},
   "source": [
    "## Loading materials from X5GON"
   ]
  },
  {
   "cell_type": "code",
   "execution_count": 18,
   "metadata": {},
   "outputs": [],
   "source": [
    "#ML materials from X5Gon\n",
    "ml_materials_1 = [41849,17474,65375]\n",
    "ml_materials_2 = [48182, 48149, 63430, 6407]\n",
    "climate_materials = [40082, 53622, 108425, 71656, 25486, 40193]\n",
    "\n",
    "curated_playlist = ml_materials_1 + ml_materials_2"
   ]
  },
  {
   "cell_type": "markdown",
   "metadata": {},
   "source": [
    "## Training learners"
   ]
  },
  {
   "cell_type": "code",
   "execution_count": 19,
   "metadata": {},
   "outputs": [],
   "source": [
    "#Ana likes and understands machine learning\n",
    "for i in ml_materials_1: Ana.update_skills(i,1)\n",
    "    \n",
    "#Bob also likes ML\n",
    "for i in ml_materials_2: Bob.update_skills(i,1)\n",
    "    \n",
    "#Calleb is interested in climate change\n",
    "for i in climate_materials: Calleb.update_skills(i,1)"
   ]
  },
  {
   "cell_type": "markdown",
   "metadata": {},
   "source": [
    "# Model transparency"
   ]
  },
  {
   "cell_type": "code",
   "execution_count": 24,
   "metadata": {},
   "outputs": [
    {
     "data": {
      "text/plain": [
       "{'Maxima and minima': 3.089,\n",
       " 'Bijection': 3.089,\n",
       " 'F(x) (group)': 3.089,\n",
       " 'Derivative': 3.089,\n",
       " 'Additive inverse': 3.089,\n",
       " 'X': 3.089,\n",
       " 'Gradient': 3.089,\n",
       " 'Function (mathematics)': 3.089,\n",
       " 'Taylor series': 3.089,\n",
       " 'Equality (mathematics)': 3.089,\n",
       " 'Machine learning': 3.056,\n",
       " 'Algorithm': 3.056,\n",
       " 'Learning disability': 3.056,\n",
       " 'Computational complexity theory': 3.056,\n",
       " 'Mathematical optimization': 3.056,\n",
       " 'Sparse dictionary learning': 3.056,\n",
       " 'Mathematical model': 3.056,\n",
       " 'Free will': 3.056,\n",
       " 'Education': 3.056,\n",
       " 'Machine': 3.056,\n",
       " 'Movement for Democracy in Liberia': 2.932,\n",
       " 'User (computing)': 2.932,\n",
       " 'Bias': 2.932,\n",
       " 'HOW (magazine)': 2.932,\n",
       " 'Phenotypic trait': 2.932,\n",
       " 'Recommender system': 2.932,\n",
       " 'Educational Action Challenging Homophobia': 2.932,\n",
       " 'Personalization': 2.932,\n",
       " 'More (command)': 2.932,\n",
       " 'Observation': 2.932}"
      ]
     },
     "execution_count": 24,
     "metadata": {},
     "output_type": "execute_result"
    }
   ],
   "source": [
    "{k: round(v.mu,3) for k, v in sorted(Ana.learners.items(), key=lambda item: item[1].mu, reverse = True) if v.mu >= 1.9}"
   ]
  },
  {
   "cell_type": "code",
   "execution_count": 25,
   "metadata": {},
   "outputs": [
    {
     "data": {
      "text/plain": [
       "{'Mathematical model': 6.99,\n",
       " 'Free will': 5.09,\n",
       " 'Time': 4.97,\n",
       " 'Mixture model': 4.97,\n",
       " 'Addition': 4.97,\n",
       " 'Variable (mathematics)': 4.877,\n",
       " 'Hidden Markov model': 4.877,\n",
       " 'Machine learning': 4.551,\n",
       " 'Transport': 2.971,\n",
       " 'Europe': 2.971,\n",
       " 'Logistics': 2.971,\n",
       " 'Computer': 2.971,\n",
       " 'Technology': 2.971,\n",
       " 'Employment': 2.971,\n",
       " 'Finance': 2.971,\n",
       " 'Infrastructure': 2.971,\n",
       " 'Research': 2.971,\n",
       " 'E (mathematical constant)': 2.73,\n",
       " 'Markov chain': 2.73,\n",
       " 'Markov model': 2.73,\n",
       " 'Equals sign': 2.73,\n",
       " 'J': 2.398,\n",
       " 'Algorithm': 2.398,\n",
       " 'Expectation–maximization algorithm': 2.398,\n",
       " 'Mixture distribution': 2.398,\n",
       " 'Parameter': 2.398,\n",
       " 'Bayesian network': 2.299,\n",
       " 'Scientific method': 2.299,\n",
       " 'Graphical model': 2.299,\n",
       " 'Marginal distribution': 2.299,\n",
       " 'Bayesian inference': 2.299}"
      ]
     },
     "execution_count": 25,
     "metadata": {},
     "output_type": "execute_result"
    }
   ],
   "source": [
    "{k: round(v.mu,3) for k, v in sorted(Bob.learners.items(), key=lambda item: item[1].mu, reverse = True) if v.mu > 1.94}"
   ]
  },
  {
   "cell_type": "code",
   "execution_count": 26,
   "metadata": {},
   "outputs": [
    {
     "data": {
      "text/plain": [
       "{'Climate change': 7.941,\n",
       " 'Question': 5.456,\n",
       " 'Storytelling': 5.32,\n",
       " 'Creative Commons license': 5.32,\n",
       " 'Ecology': 3.178,\n",
       " 'Sun': 3.178,\n",
       " 'Extraterrestrial life': 3.178,\n",
       " 'Oxygen': 3.178,\n",
       " 'Earth': 3.178,\n",
       " 'Atmosphere of Earth': 3.178,\n",
       " \"Carbon dioxide in Earth's atmosphere\": 3.178,\n",
       " 'Sea': 3.178,\n",
       " 'Greenhouse effect': 3.178,\n",
       " 'Life': 3.178,\n",
       " 'Essay': 2.88,\n",
       " 'Human impact on the environment': 2.88,\n",
       " 'Science': 2.88,\n",
       " 'Addition': 2.88,\n",
       " 'Human': 2.88,\n",
       " 'Environmentalism': 2.88,\n",
       " 'Please (U2 song)': 2.88,\n",
       " 'Politics': 2.88,\n",
       " 'Stern Review': 2.806,\n",
       " 'Nicholas Stern, Baron Stern of Brentford': 2.806,\n",
       " 'Economic growth': 2.806,\n",
       " 'Economic development': 2.806,\n",
       " 'An Inconvenient Truth (book)': 2.806,\n",
       " 'United States': 2.806,\n",
       " 'Great Recession': 2.806,\n",
       " 'European Union': 2.806,\n",
       " 'Economics': 2.806,\n",
       " 'Climate change adaptation': 2.803,\n",
       " 'Sustainable development': 2.803,\n",
       " 'Natural environment': 2.803,\n",
       " 'Education': 2.803,\n",
       " 'Europe': 2.803,\n",
       " 'Climate change mitigation': 2.803,\n",
       " 'Clergy': 2.803,\n",
       " 'Indigenous peoples of the Americas': 2.803,\n",
       " 'Capacity building': 2.803,\n",
       " 'Data': 2.764,\n",
       " 'Open data': 2.764,\n",
       " 'Effects of global warming': 2.764,\n",
       " 'Educational assessment': 2.764,\n",
       " 'Narrative': 2.764,\n",
       " 'Data set': 2.764,\n",
       " 'Homework': 2.764,\n",
       " 'Google Maps': 2.74,\n",
       " 'File sharing': 2.74,\n",
       " 'Public domain': 2.74,\n",
       " 'Dianne Cook (statistician)': 2.74,\n",
       " 'Cynthia Brewer': 2.74,\n",
       " 'D3.js': 2.74,\n",
       " 'Television': 2.74,\n",
       " 'Map': 2.74}"
      ]
     },
     "execution_count": 26,
     "metadata": {},
     "output_type": "execute_result"
    }
   ],
   "source": [
    "{k: round(v.mu,3) for k, v in sorted(Calleb.learners.items(), key=lambda item: item[1].mu, reverse = True) if v.mu >= 1.8}"
   ]
  },
  {
   "cell_type": "code",
   "execution_count": 33,
   "metadata": {},
   "outputs": [
    {
     "data": {
      "image/png": "[encoded data removed]",
      "text/plain": [
       "<Figure size 432x288 with 1 Axes>"
      ]
     },
     "metadata": {
      "needs_background": "light"
     },
     "output_type": "display_data"
    }
   ],
   "source": [
    "import matplotlib.pyplot as plt\n",
    "import numpy as np\n",
    "import scipy.stats as stats\n",
    "import math\n",
    "\n",
    "mu = Ana.learners['Derivative'].mu\n",
    "variance = Ana.learners['Derivative'].sigma\n",
    "sigma = math.sqrt(variance)\n",
    "x = np.linspace(mu - 3*sigma, mu + 3*sigma, 100)\n",
    "plt.plot(x, stats.norm.pdf(x, mu, sigma))\n",
    "\n",
    "mu = Ana.learners['Educational Action Challenging Homophobia'].mu\n",
    "variance = TB.normalizer * Ana.learners['Educational Action Challenging Homophobia'].sigma\n",
    "sigma = math.sqrt(variance)\n",
    "x = np.linspace(mu - 3*sigma, mu + 3*sigma, 100)\n",
    "plt.plot(x, stats.norm.pdf(x, mu, sigma))\n",
    "plt.show()"
   ]
  },
  {
   "cell_type": "markdown",
   "metadata": {},
   "source": [
    "# Comparison of sutents"
   ]
  },
  {
   "cell_type": "code",
   "execution_count": 27,
   "metadata": {},
   "outputs": [
    {
     "data": {
      "text/plain": [
       "0.44529657825529395"
      ]
     },
     "execution_count": 27,
     "metadata": {},
     "output_type": "execute_result"
    }
   ],
   "source": [
    "Ana.compare_score(Bob) #prob that Ana is more skilled than Bob generally"
   ]
  },
  {
   "cell_type": "code",
   "execution_count": 28,
   "metadata": {},
   "outputs": [
    {
     "data": {
      "text/plain": [
       "0.554703421744706"
      ]
     },
     "execution_count": 28,
     "metadata": {},
     "output_type": "execute_result"
    }
   ],
   "source": [
    "Bob.compare_score(Ana)"
   ]
  },
  {
   "cell_type": "code",
   "execution_count": 29,
   "metadata": {},
   "outputs": [
    {
     "data": {
      "text/plain": [
       "0.6961461437922869"
      ]
     },
     "execution_count": 29,
     "metadata": {},
     "output_type": "execute_result"
    }
   ],
   "source": [
    "Bob.predict_proba(ml_materials_1[0])"
   ]
  },
  {
   "cell_type": "code",
   "execution_count": 30,
   "metadata": {},
   "outputs": [
    {
     "data": {
      "text/plain": [
       "0.793916030632261"
      ]
     },
     "execution_count": 30,
     "metadata": {},
     "output_type": "execute_result"
    }
   ],
   "source": [
    "TB.compare_students_on_playlist(Ana,Bob, ml_materials_1)"
   ]
  },
  {
   "cell_type": "code",
   "execution_count": 31,
   "metadata": {},
   "outputs": [
    {
     "data": {
      "text/plain": [
       "0.9893987223608376"
      ]
     },
     "execution_count": 31,
     "metadata": {},
     "output_type": "execute_result"
    }
   ],
   "source": [
    "TB.compare_students_on_playlist(Ana, Calleb, ml_materials_1)"
   ]
  },
  {
   "cell_type": "code",
   "execution_count": null,
   "metadata": {},
   "outputs": [],
   "source": []
  }
 ],
 "metadata": {
  "kernelspec": {
   "display_name": "sk_base",
   "language": "python",
   "name": "sk_base"
  },
  "language_info": {
   "codemirror_mode": {
    "name": "ipython",
    "version": 3
   },
   "file_extension": ".py",
   "mimetype": "text/x-python",
   "name": "python",
   "nbconvert_exporter": "python",
   "pygments_lexer": "ipython3",
   "version": "3.7.3"
  }
 },
 "nbformat": 4,
 "nbformat_minor": 2
}
