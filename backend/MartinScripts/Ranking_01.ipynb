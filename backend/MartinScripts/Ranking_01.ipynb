{
 "cells": [
  {
   "cell_type": "code",
   "execution_count": 6,
   "metadata": {},
   "outputs": [],
   "source": [
    "import requests\n",
    "\n",
    "headers = {\n",
    "    'accept': 'application/json',\n",
    "    'Content-Type': 'application/json',\n",
    "}\n",
    "\n",
    "data = '{ \"resource_ids\": [ 39435, 39426, 39425, 38657 ], \"wikification_type\": \"SIMPLE\"}'\n",
    "\n",
    "response = requests.post('http://wp3dev.x5gon.org/distance/wikifier/fetch', headers=headers, data=data)\n"
   ]
  },
  {
   "cell_type": "code",
   "execution_count": 7,
   "metadata": {},
   "outputs": [],
   "source": [
    "import json\n",
    "response_c = response.content\n",
    "dict_response = json.loads(response_c.decode('utf-8'))"
   ]
  },
  {
   "cell_type": "code",
   "execution_count": 85,
   "metadata": {},
   "outputs": [],
   "source": [
    "import itertools\n",
    "import math\n",
    "import trueskill as t\n",
    "import numpy as np\n",
    "import json\n",
    "\n",
    "def return_topic_dificulty(material_id):\n",
    "    headers = {\n",
    "    'accept': 'application/json',\n",
    "    'Content-Type': 'application/json',\n",
    "    }\n",
    "\n",
    "    data ='{ \"resource_ids\": ['+str(material_id)+'], \"wikification_type\": \"SIMPLE\"}'\n",
    "\n",
    "    response = requests.post('http://wp3dev.x5gon.org/distance/wikifier/fetch', headers=headers, data=data)\n",
    "    concepts = json.loads(response.content.decode())['output'][0]['value']['concepts']\n",
    "    concepts_dificulties = {i['title']:i['cosine'] for i in concepts}\n",
    "    return concepts_dificulties\n",
    "\n",
    "class TrueBuddy_learner:\n",
    "    def __init__(self, starting_skill = 0, starting_var = (25/3), BETA = 25/6, inf = 1/1000):\n",
    "        #starting skill is defenitly 0, starting var has to be determined\n",
    "        self.st_skill = starting_skill\n",
    "        self.st_var = starting_var\n",
    "        self.BETA = BETA\n",
    "        self.learners = {}\n",
    "        self.inf = inf\n",
    "        \n",
    "    \n",
    "    \n",
    "    def update_skills(self, material_id, feedback):\n",
    "        skills = return_topic_dificulty(material_id)\n",
    "        for skill in skills.keys():\n",
    "            if skill in self.learners:\n",
    "                pass\n",
    "            else:\n",
    "                self.learners[skill] = t.Rating(self.st_skill,self.st_var)\n",
    "        active_list = [self.learners[skill] for skill in skills.keys()]\n",
    "        \n",
    "        resource_list = [t.Rating(skills[skill],self.inf) for skill in skills.keys()]\n",
    "        #print(resource_list)\n",
    "        \n",
    "        if feedback == 1:\n",
    "            active_list, resource_list = t.rate([active_list,resource_list],ranks=[0,1])\n",
    "        elif feedback == 0:\n",
    "            active_list, resource_list = t.rate([active_list,resource_list],ranks=[1,0])\n",
    "        else:\n",
    "            raise ValueError('feedback can only be 1 or 0')\n",
    "        \n",
    "        #print(active_list)\n",
    "        \n",
    "        skill_list = list(skills.keys())\n",
    "        for i in range(len(skill_list)):\n",
    "            self.learners[skill_list[i]] = active_list[i]\n",
    "        \n",
    "        return None\n",
    "\n",
    "    def win_probability(self,team1, team2):\n",
    "        delta_mu = sum(r.mu for r in team1) - sum(r.mu for r in team2)\n",
    "        sum_sigma = sum(r.sigma ** 2 for r in itertools.chain(team1, team2))\n",
    "        size = len(team1) + len(team2)\n",
    "        denom = math.sqrt(size * (self.BETA * self.BETA) + sum_sigma)\n",
    "        ts = t.global_env()\n",
    "        return ts.cdf(delta_mu / denom)\n",
    "\n",
    "    \n",
    "    \n",
    "    \n",
    "    \n",
    "    \n",
    "    def predict_proba(self,material_id):\n",
    "        skills = return_topic_dificulty(material_id)\n",
    "        for skill in skills.keys():\n",
    "            if skill in self.learners:\n",
    "                pass\n",
    "            else:\n",
    "                self.learners[skill] = t.Rating(self.st_skill,self.st_var)\n",
    "        active_list = [self.learners[skill] for skill in skills.keys()]\n",
    "        \n",
    "        resource_list = [t.Rating(skills[skill],self.inf) for skill in skills.keys()]\n",
    "        #print(resource_list)\n",
    "        \n",
    "        return(self.win_probability(active_list,resource_list))\n",
    "        \n",
    "    \n",
    "    def predict(self,material_id):\n",
    "        win_proba = self.predict_proba(material_id)\n",
    "        \n",
    "        return(1 if win_proba >= 0.5 else 0)\n",
    "        \n",
    "        "
   ]
  },
  {
   "cell_type": "code",
   "execution_count": 77,
   "metadata": {},
   "outputs": [],
   "source": [
    "l1 = TrueBuddy_learner()"
   ]
  },
  {
   "cell_type": "code",
   "execution_count": 84,
   "metadata": {},
   "outputs": [
    {
     "data": {
      "text/plain": [
       "0.9493382280703704"
      ]
     },
     "execution_count": 84,
     "metadata": {},
     "output_type": "execute_result"
    }
   ],
   "source": [
    "for i in range(1):\n",
    "    l1.update_skills(39435,1)\n",
    "l1.predict_proba(39435)"
   ]
  },
  {
   "cell_type": "code",
   "execution_count": 1,
   "metadata": {},
   "outputs": [],
   "source": [
    "import TrueBuddy as TB"
   ]
  },
  {
   "cell_type": "code",
   "execution_count": 2,
   "metadata": {},
   "outputs": [],
   "source": [
    "l2 = TB.TrueBuddy_learner()"
   ]
  },
  {
   "cell_type": "code",
   "execution_count": 4,
   "metadata": {},
   "outputs": [
    {
     "name": "stdout",
     "output_type": "stream",
     "text": [
      "0.7983983578463263\n",
      "0.8625094819774723\n",
      "0.8995165082636599\n",
      "0.922758850907267\n",
      "0.9383431718634005\n",
      "0.9493382280703704\n",
      "0.9574140664674082\n",
      "0.9635412550979683\n",
      "0.968315225908515\n",
      "0.9721180823692476\n"
     ]
    }
   ],
   "source": [
    "for i in range(10):\n",
    "    l2.update_skills(39435,1)\n",
    "    print(l2.predict_proba(39435))\n"
   ]
  },
  {
   "cell_type": "code",
   "execution_count": null,
   "metadata": {},
   "outputs": [],
   "source": []
  }
 ],
 "metadata": {
  "kernelspec": {
   "display_name": "sk_base",
   "language": "python",
   "name": "sk_base"
  },
  "language_info": {
   "codemirror_mode": {
    "name": "ipython",
    "version": 3
   },
   "file_extension": ".py",
   "mimetype": "text/x-python",
   "name": "python",
   "nbconvert_exporter": "python",
   "pygments_lexer": "ipython3",
   "version": "3.7.3"
  }
 },
 "nbformat": 4,
 "nbformat_minor": 2
}
