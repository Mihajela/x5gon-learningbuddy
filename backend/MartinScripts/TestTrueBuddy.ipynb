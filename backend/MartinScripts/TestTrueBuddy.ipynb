{
 "cells": [
  {
   "cell_type": "code",
   "execution_count": 16,
   "metadata": {},
   "outputs": [],
   "source": [
    "import TrueBuddy as TB"
   ]
  },
  {
   "cell_type": "code",
   "execution_count": 23,
   "metadata": {},
   "outputs": [],
   "source": [
    "l2 = TB.TrueBuddy_learner()"
   ]
  },
  {
   "cell_type": "code",
   "execution_count": 38,
   "metadata": {},
   "outputs": [],
   "source": [
    "l1 = TB.TrueBuddy_learner()\n",
    "others = [TB.TrueBuddy_learner() for i in range(20)]"
   ]
  },
  {
   "cell_type": "code",
   "execution_count": 24,
   "metadata": {},
   "outputs": [
    {
     "name": "stdout",
     "output_type": "stream",
     "text": [
      "0.6985875891737746\n",
      "0.8113581361890455\n",
      "0.8705708910295191\n",
      "0.9050372472874371\n",
      "0.9268277858560646\n",
      "0.9415106520726194\n",
      "0.9519069194453621\n",
      "0.959562821331009\n",
      "0.9653822931224518\n",
      "0.9699225700758018\n"
     ]
    }
   ],
   "source": [
    "for i in range(10):\n",
    "    l2.update_skills(39435,1)\n",
    "    print(l2.predict_proba(39435))"
   ]
  },
  {
   "cell_type": "code",
   "execution_count": 19,
   "metadata": {},
   "outputs": [
    {
     "data": {
      "text/plain": [
       "{'Human': trueskill.Rating(mu=5.951, sigma=7.479),\n",
       " 'Shapeshifting': trueskill.Rating(mu=5.951, sigma=7.479),\n",
       " 'Justice': trueskill.Rating(mu=5.951, sigma=7.479),\n",
       " 'Education': trueskill.Rating(mu=5.951, sigma=7.479),\n",
       " 'Lawsuit': trueskill.Rating(mu=5.951, sigma=7.479),\n",
       " 'Psychology': trueskill.Rating(mu=5.951, sigma=7.479),\n",
       " 'Free will': trueskill.Rating(mu=5.951, sigma=7.479),\n",
       " 'Thought': trueskill.Rating(mu=5.951, sigma=7.479),\n",
       " 'Anatomical terms of location': trueskill.Rating(mu=5.951, sigma=7.479),\n",
       " 'Computer': trueskill.Rating(mu=5.951, sigma=7.479)}"
      ]
     },
     "execution_count": 19,
     "metadata": {},
     "output_type": "execute_result"
    }
   ],
   "source": [
    "l2.learners"
   ]
  },
  {
   "cell_type": "code",
   "execution_count": 20,
   "metadata": {},
   "outputs": [],
   "source": [
    "import trueskill as t\n",
    "import TrueBuddy\n",
    "\n",
    "def skill_to_parm(TrueSkillObject):\n",
    "    parms = []\n",
    "    for i in TrueSkillObject.learners.keys():\n",
    "        parms.append([i, TrueSkillObject.learners[i].mu,TrueSkillObject.learners[i].sigma])\n",
    "    return parms\n",
    "\n",
    "def parm_to_skill(parms):\n",
    "    skill = TrueBuddy.TrueBuddy_learner()\n",
    "    for i in range(len(parms)):\n",
    "        skill.learners[parms[i][0]] = t.Rating(parms[i][1],parms[i][2])\n",
    "    return skill"
   ]
  },
  {
   "cell_type": "code",
   "execution_count": 21,
   "metadata": {},
   "outputs": [
    {
     "data": {
      "text/plain": [
       "True"
      ]
     },
     "execution_count": 21,
     "metadata": {},
     "output_type": "execute_result"
    }
   ],
   "source": [
    "parm_to_skill(skill_to_parm(l2)).learners == l2.learners"
   ]
  },
  {
   "cell_type": "code",
   "execution_count": 28,
   "metadata": {},
   "outputs": [
    {
     "data": {
      "text/plain": [
       "0.9699225700758018"
      ]
     },
     "execution_count": 28,
     "metadata": {},
     "output_type": "execute_result"
    }
   ],
   "source": [
    "l2.predict_proba(39435)\n"
   ]
  },
  {
   "cell_type": "code",
   "execution_count": 34,
   "metadata": {},
   "outputs": [],
   "source": [
    "def evaluate_on_playlist(playlist,learner):\n",
    "    prob = 0\n",
    "    for i in playlist: \n",
    "        prob = prob + learner.predict_proba(i)\n",
    "    return prob\n",
    "  "
   ]
  },
  {
   "cell_type": "code",
   "execution_count": null,
   "metadata": {},
   "outputs": [],
   "source": [
    "def recomend_buddies(learner, others, n_buddies):\n",
    "    for "
   ]
  },
  {
   "cell_type": "code",
   "execution_count": 35,
   "metadata": {},
   "outputs": [
    {
     "data": {
      "text/plain": [
       "2.9097677102274053"
      ]
     },
     "execution_count": 35,
     "metadata": {},
     "output_type": "execute_result"
    }
   ],
   "source": [
    "evaluate_on_playlist([39435,39435,39435],l2)"
   ]
  },
  {
   "cell_type": "code",
   "execution_count": null,
   "metadata": {},
   "outputs": [],
   "source": []
  }
 ],
 "metadata": {
  "kernelspec": {
   "display_name": "sk_base",
   "language": "python",
   "name": "sk_base"
  },
  "language_info": {
   "codemirror_mode": {
    "name": "ipython",
    "version": 3
   },
   "file_extension": ".py",
   "mimetype": "text/x-python",
   "name": "python",
   "nbconvert_exporter": "python",
   "pygments_lexer": "ipython3",
   "version": "3.7.3"
  }
 },
 "nbformat": 4,
 "nbformat_minor": 2
}
