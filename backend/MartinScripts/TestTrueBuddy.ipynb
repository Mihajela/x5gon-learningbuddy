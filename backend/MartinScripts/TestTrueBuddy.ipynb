{
 "cells": [
  {
   "cell_type": "code",
   "execution_count": 1,
   "metadata": {},
   "outputs": [],
   "source": [
    "import TrueBuddy as TB"
   ]
  },
  {
   "cell_type": "code",
   "execution_count": 2,
   "metadata": {},
   "outputs": [],
   "source": [
    "l2 = TB.TrueBuddy_learner()"
   ]
  },
  {
   "cell_type": "code",
   "execution_count": 3,
   "metadata": {},
   "outputs": [
    {
     "name": "stdout",
     "output_type": "stream",
     "text": [
      "0.6985875891737746\n",
      "0.8113581361890455\n",
      "0.8705708910295191\n",
      "0.9050372472874371\n",
      "0.9268277858560646\n",
      "0.9415106520726194\n",
      "0.9519069194453621\n",
      "0.959562821331009\n",
      "0.9653822931224518\n",
      "0.9699225700758018\n"
     ]
    }
   ],
   "source": [
    "for i in range(10):\n",
    "    l2.update_skills(39435,1)\n",
    "    print(l2.predict_proba(39435))"
   ]
  },
  {
   "cell_type": "code",
   "execution_count": 4,
   "metadata": {},
   "outputs": [
    {
     "data": {
      "text/plain": [
       "{'Human': trueskill.Rating(mu=5.951, sigma=7.479),\n",
       " 'Shapeshifting': trueskill.Rating(mu=5.951, sigma=7.479),\n",
       " 'Justice': trueskill.Rating(mu=5.951, sigma=7.479),\n",
       " 'Education': trueskill.Rating(mu=5.951, sigma=7.479),\n",
       " 'Lawsuit': trueskill.Rating(mu=5.951, sigma=7.479),\n",
       " 'Psychology': trueskill.Rating(mu=5.951, sigma=7.479),\n",
       " 'Free will': trueskill.Rating(mu=5.951, sigma=7.479),\n",
       " 'Thought': trueskill.Rating(mu=5.951, sigma=7.479),\n",
       " 'Anatomical terms of location': trueskill.Rating(mu=5.951, sigma=7.479),\n",
       " 'Computer': trueskill.Rating(mu=5.951, sigma=7.479)}"
      ]
     },
     "execution_count": 4,
     "metadata": {},
     "output_type": "execute_result"
    }
   ],
   "source": [
    "l2.learners"
   ]
  },
  {
   "cell_type": "code",
   "execution_count": 7,
   "metadata": {},
   "outputs": [],
   "source": [
    "import trueskill as t\n",
    "import TrueBuddy\n",
    "\n",
    "def skill_to_parm(TrueSkillObject):\n",
    "    parms = []\n",
    "    for i in TrueSkillObject.learners.keys():\n",
    "        parms.append([i, TrueSkillObject.learners[i].mu,TrueSkillObject.learners[i].sigma])\n",
    "    return parms\n",
    "\n",
    "def parm_to_skill(parms):\n",
    "    skill = TrueBuddy.TrueBuddy_learner()\n",
    "    for i in range(len(parms)):\n",
    "        skill.learners[i] = parms[i][2]t.Rating(parms[i][1],parms[i][2])\n",
    "    return skill"
   ]
  },
  {
   "cell_type": "code",
   "execution_count": 9,
   "metadata": {},
   "outputs": [
    {
     "ename": "TypeError",
     "evalue": "__init__() takes from 1 to 3 positional arguments but 4 were given",
     "output_type": "error",
     "traceback": [
      "\u001b[1;31m---------------------------------------------------------------------------\u001b[0m",
      "\u001b[1;31mTypeError\u001b[0m                                 Traceback (most recent call last)",
      "\u001b[1;32m<ipython-input-9-6d344d82a4fd>\u001b[0m in \u001b[0;36m<module>\u001b[1;34m\u001b[0m\n\u001b[1;32m----> 1\u001b[1;33m \u001b[0mparm_to_skill\u001b[0m\u001b[1;33m(\u001b[0m\u001b[0mskill_to_parm\u001b[0m\u001b[1;33m(\u001b[0m\u001b[0ml2\u001b[0m\u001b[1;33m)\u001b[0m\u001b[1;33m)\u001b[0m\u001b[1;33m\u001b[0m\u001b[1;33m\u001b[0m\u001b[0m\n\u001b[0m",
      "\u001b[1;32m<ipython-input-7-0afecd7df3a1>\u001b[0m in \u001b[0;36mparm_to_skill\u001b[1;34m(parms)\u001b[0m\n\u001b[0;32m     11\u001b[0m     \u001b[0mskill\u001b[0m \u001b[1;33m=\u001b[0m \u001b[0mTrueBuddy\u001b[0m\u001b[1;33m.\u001b[0m\u001b[0mTrueBuddy_learner\u001b[0m\u001b[1;33m(\u001b[0m\u001b[1;33m)\u001b[0m\u001b[1;33m\u001b[0m\u001b[1;33m\u001b[0m\u001b[0m\n\u001b[0;32m     12\u001b[0m     \u001b[1;32mfor\u001b[0m \u001b[0mi\u001b[0m \u001b[1;32min\u001b[0m \u001b[0mrange\u001b[0m\u001b[1;33m(\u001b[0m\u001b[0mlen\u001b[0m\u001b[1;33m(\u001b[0m\u001b[0mparms\u001b[0m\u001b[1;33m)\u001b[0m\u001b[1;33m)\u001b[0m\u001b[1;33m:\u001b[0m\u001b[1;33m\u001b[0m\u001b[1;33m\u001b[0m\u001b[0m\n\u001b[1;32m---> 13\u001b[1;33m         \u001b[0mskill\u001b[0m\u001b[1;33m.\u001b[0m\u001b[0mlearners\u001b[0m\u001b[1;33m[\u001b[0m\u001b[0mi\u001b[0m\u001b[1;33m]\u001b[0m \u001b[1;33m=\u001b[0m \u001b[0mt\u001b[0m\u001b[1;33m.\u001b[0m\u001b[0mRating\u001b[0m\u001b[1;33m(\u001b[0m\u001b[0mparms\u001b[0m\u001b[1;33m[\u001b[0m\u001b[0mi\u001b[0m\u001b[1;33m]\u001b[0m\u001b[1;33m[\u001b[0m\u001b[1;36m0\u001b[0m\u001b[1;33m]\u001b[0m\u001b[1;33m,\u001b[0m\u001b[0mparms\u001b[0m\u001b[1;33m[\u001b[0m\u001b[0mi\u001b[0m\u001b[1;33m]\u001b[0m\u001b[1;33m[\u001b[0m\u001b[1;36m1\u001b[0m\u001b[1;33m]\u001b[0m\u001b[1;33m,\u001b[0m\u001b[0mparms\u001b[0m\u001b[1;33m[\u001b[0m\u001b[0mi\u001b[0m\u001b[1;33m]\u001b[0m\u001b[1;33m[\u001b[0m\u001b[1;36m2\u001b[0m\u001b[1;33m]\u001b[0m\u001b[1;33m)\u001b[0m\u001b[1;33m\u001b[0m\u001b[1;33m\u001b[0m\u001b[0m\n\u001b[0m\u001b[0;32m     14\u001b[0m     \u001b[1;32mreturn\u001b[0m \u001b[0mskill\u001b[0m\u001b[1;33m\u001b[0m\u001b[1;33m\u001b[0m\u001b[0m\n",
      "\u001b[1;31mTypeError\u001b[0m: __init__() takes from 1 to 3 positional arguments but 4 were given"
     ]
    }
   ],
   "source": [
    "parm_to_skill(skill_to_parm(l2))"
   ]
  },
  {
   "cell_type": "code",
   "execution_count": null,
   "metadata": {},
   "outputs": [],
   "source": []
  }
 ],
 "metadata": {
  "kernelspec": {
   "display_name": "sk_base",
   "language": "python",
   "name": "sk_base"
  },
  "language_info": {
   "codemirror_mode": {
    "name": "ipython",
    "version": 3
   },
   "file_extension": ".py",
   "mimetype": "text/x-python",
   "name": "python",
   "nbconvert_exporter": "python",
   "pygments_lexer": "ipython3",
   "version": "3.7.3"
  }
 },
 "nbformat": 4,
 "nbformat_minor": 2
}
